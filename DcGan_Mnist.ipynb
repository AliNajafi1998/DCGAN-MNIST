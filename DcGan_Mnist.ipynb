{
 "cells": [
  {
   "cell_type": "code",
   "execution_count": 0,
   "metadata": {
    "colab": {},
    "colab_type": "code",
    "id": "LU1ehmm-GfKa"
   },
   "outputs": [],
   "source": [
    "import numpy as np\n",
    "import pandas as pd\n",
    "import matplotlib.pyplot as plt\n",
    "import os"
   ]
  },
  {
   "cell_type": "code",
   "execution_count": 0,
   "metadata": {
    "colab": {},
    "colab_type": "code",
    "id": "OysDIwXVGfKd"
   },
   "outputs": [],
   "source": [
    "import tensorflow as tf"
   ]
  },
  {
   "cell_type": "markdown",
   "metadata": {},
   "source": [
    "# Loading Data"
   ]
  },
  {
   "cell_type": "code",
   "execution_count": 0,
   "metadata": {
    "colab": {},
    "colab_type": "code",
    "id": "lYpxGA8NGfKf"
   },
   "outputs": [],
   "source": [
    "from tensorflow.keras.datasets import mnist"
   ]
  },
  {
   "cell_type": "code",
   "execution_count": 0,
   "metadata": {
    "colab": {},
    "colab_type": "code",
    "id": "c7-WraDTGfKi"
   },
   "outputs": [],
   "source": [
    "#path=os.getcwd()+'/mnist.npz'\n",
    "(X_train, y_train), (X_test, y_test) = mnist.load_data()"
   ]
  },
  {
   "cell_type": "markdown",
   "metadata": {},
   "source": [
    "# PreProcessing"
   ]
  },
  {
   "cell_type": "code",
   "execution_count": 0,
   "metadata": {
    "colab": {},
    "colab_type": "code",
    "id": "owtW7VogGfKl"
   },
   "outputs": [],
   "source": [
    "X_train = X_train / 255\n",
    "X_test = X_test / 255"
   ]
  },
  {
   "cell_type": "code",
   "execution_count": 0,
   "metadata": {
    "colab": {},
    "colab_type": "code",
    "id": "luZQWM50GfKp"
   },
   "outputs": [],
   "source": [
    "X_train = (X_train.reshape((-1,28,28,1)) * 2) - 1 \n",
    "X_test = (X_test.reshape((-1,28,28,1)) * 2) - 1 "
   ]
  },
  {
   "cell_type": "code",
   "execution_count": 16,
   "metadata": {
    "colab": {
     "base_uri": "https://localhost:8080/",
     "height": 34
    },
    "colab_type": "code",
    "id": "PZs0Br0EGfKr",
    "outputId": "211b3661-d223-4296-ecf7-b36fa1e6a459"
   },
   "outputs": [
    {
     "data": {
      "text/plain": [
       "(60000, 28, 28, 1)"
      ]
     },
     "execution_count": 16,
     "metadata": {
      "tags": []
     },
     "output_type": "execute_result"
    }
   ],
   "source": [
    "X_train.shape"
   ]
  },
  {
   "cell_type": "code",
   "execution_count": 0,
   "metadata": {
    "colab": {},
    "colab_type": "code",
    "id": "vm9740fOGfKv"
   },
   "outputs": [],
   "source": [
    "only_zeros = X_train[y_train==0]"
   ]
  },
  {
   "cell_type": "code",
   "execution_count": 18,
   "metadata": {
    "colab": {
     "base_uri": "https://localhost:8080/",
     "height": 34
    },
    "colab_type": "code",
    "id": "D5BMsFWKGfKy",
    "outputId": "d9d7355d-33a3-41ab-d3fd-5933992c0cec"
   },
   "outputs": [
    {
     "data": {
      "text/plain": [
       "(5923, 28, 28, 1)"
      ]
     },
     "execution_count": 18,
     "metadata": {
      "tags": []
     },
     "output_type": "execute_result"
    }
   ],
   "source": [
    "only_zeros.shape"
   ]
  },
  {
   "cell_type": "code",
   "execution_count": 19,
   "metadata": {
    "colab": {
     "base_uri": "https://localhost:8080/",
     "height": 34
    },
    "colab_type": "code",
    "id": "_YnhpmLNGfK0",
    "outputId": "5cf6d818-9b17-44bd-a1e0-5eb046d64f45"
   },
   "outputs": [
    {
     "data": {
      "text/plain": [
       "1.0"
      ]
     },
     "execution_count": 19,
     "metadata": {
      "tags": []
     },
     "output_type": "execute_result"
    }
   ],
   "source": [
    "only_zeros[0].max()"
   ]
  },
  {
   "cell_type": "code",
   "execution_count": 20,
   "metadata": {
    "colab": {
     "base_uri": "https://localhost:8080/",
     "height": 34
    },
    "colab_type": "code",
    "id": "tsbQhBeoGfK3",
    "outputId": "f0df6aee-3254-4107-e7a0-77ab6565c62f"
   },
   "outputs": [
    {
     "data": {
      "text/plain": [
       "-1.0"
      ]
     },
     "execution_count": 20,
     "metadata": {
      "tags": []
     },
     "output_type": "execute_result"
    }
   ],
   "source": [
    "only_zeros.min()"
   ]
  },
  {
   "cell_type": "code",
   "execution_count": 0,
   "metadata": {
    "colab": {},
    "colab_type": "code",
    "id": "95f4oDhTHgym"
   },
   "outputs": [],
   "source": [
    "import tensorflow as tf\n",
    "physical_devices = tf.config.list_physical_devices('GPU') \n",
    "tf.config.experimental.set_memory_growth(physical_devices[0], True)"
   ]
  },
  {
   "cell_type": "code",
   "execution_count": 0,
   "metadata": {
    "colab": {},
    "colab_type": "code",
    "id": "XZnckSHgGfK6"
   },
   "outputs": [],
   "source": [
    "from tensorflow.keras.models import Sequential\n",
    "from tensorflow.keras.layers import Dense,Reshape,Conv2DTranspose,BatchNormalization,LeakyReLU,Flatten,Conv2D,Dropout"
   ]
  },
  {
   "cell_type": "markdown",
   "metadata": {},
   "source": [
    "# Generator Model"
   ]
  },
  {
   "cell_type": "code",
   "execution_count": 0,
   "metadata": {
    "colab": {},
    "colab_type": "code",
    "id": "LRulV-NRGfK8"
   },
   "outputs": [],
   "source": [
    "with tf.device('/gpu:0'):\n",
    "    coding_size = 100\n",
    "    generator = Sequential()\n",
    "    generator.add(Dense(7 * 7 * 128,input_shape=[coding_size]))\n",
    "    generator.add(Reshape([7,7,128]))\n",
    "    generator.add(BatchNormalization())\n",
    "    generator.add(Conv2DTranspose(64,kernel_size=5,strides=2,padding='same',activation='relu'))\n",
    "    generator.add(BatchNormalization())\n",
    "    generator.add(Conv2DTranspose(1,kernel_size=5,strides=2,padding='same',activation='tanh'))"
   ]
  },
  {
   "cell_type": "markdown",
   "metadata": {},
   "source": [
    "# Discriminator Model"
   ]
  },
  {
   "cell_type": "code",
   "execution_count": 0,
   "metadata": {
    "colab": {},
    "colab_type": "code",
    "id": "VtQKo-r8GfK-"
   },
   "outputs": [],
   "source": [
    "#discriminator Model\n",
    "with tf.device('/gpu:0'):\n",
    "    discriminator = Sequential()\n",
    "    discriminator.add(Conv2D(64,kernel_size=5,strides=2,padding='same',activation=LeakyReLU(0.3),input_shape=[28,28,1]))\n",
    "    discriminator.add(Dropout(0.5))\n",
    "    discriminator.add(Conv2D(128,kernel_size=5,strides=2,padding='same',activation=LeakyReLU(0.3),input_shape=[28,28,1]))\n",
    "    discriminator.add(Dropout(0.5))\n",
    "    discriminator.add(Flatten())\n",
    "    discriminator.add(Dense(1,activation='sigmoid'))"
   ]
  },
  {
   "cell_type": "markdown",
   "metadata": {},
   "source": [
    "# GAN"
   ]
  },
  {
   "cell_type": "code",
   "execution_count": 0,
   "metadata": {
    "colab": {},
    "colab_type": "code",
    "id": "PiNa7ZuXGfLA"
   },
   "outputs": [],
   "source": [
    "with tf.device('/gpu:0'):\n",
    "    GAN = Sequential([generator,discriminator])"
   ]
  },
  {
   "cell_type": "code",
   "execution_count": 0,
   "metadata": {
    "colab": {},
    "colab_type": "code",
    "id": "8I9uJvXWGfLD"
   },
   "outputs": [],
   "source": [
    "with tf.device('/gpu:0'):\n",
    "    discriminator.compile(loss='binary_crossentropy',optimizer='adam')\n",
    "    discriminator.trainable = False"
   ]
  },
  {
   "cell_type": "code",
   "execution_count": 0,
   "metadata": {
    "colab": {},
    "colab_type": "code",
    "id": "ziLyuNRkGfLG"
   },
   "outputs": [],
   "source": [
    "with tf.device('/gpu:0'):\n",
    "    GAN.compile(loss='binary_crossentropy',optimizer='adam')"
   ]
  },
  {
   "cell_type": "code",
   "execution_count": 0,
   "metadata": {
    "colab": {},
    "colab_type": "code",
    "id": "I5Ew54C0GfLJ"
   },
   "outputs": [],
   "source": [
    "batch_size = 32"
   ]
  },
  {
   "cell_type": "code",
   "execution_count": 0,
   "metadata": {
    "colab": {},
    "colab_type": "code",
    "id": "sriLDm0wGfLP"
   },
   "outputs": [],
   "source": [
    "my_data = only_zeros\n",
    "dataset = tf.data.Dataset.from_tensor_slices(my_data).shuffle(buffer_size=1000)"
   ]
  },
  {
   "cell_type": "code",
   "execution_count": 0,
   "metadata": {
    "colab": {},
    "colab_type": "code",
    "id": "6nIepBP8GfLS"
   },
   "outputs": [],
   "source": [
    "dataset = dataset.batch(batch_size=batch_size,drop_remainder=True).prefetch(1)"
   ]
  },
  {
   "cell_type": "markdown",
   "metadata": {},
   "source": [
    "# Training"
   ]
  },
  {
   "cell_type": "code",
   "execution_count": 0,
   "metadata": {
    "colab": {},
    "colab_type": "code",
    "id": "tBQcYL_cGfLU"
   },
   "outputs": [],
   "source": [
    "epochs = 20"
   ]
  },
  {
   "cell_type": "code",
   "execution_count": 33,
   "metadata": {
    "colab": {
     "base_uri": "https://localhost:8080/",
     "height": 689
    },
    "colab_type": "code",
    "id": "aKCu09hTGfLW",
    "outputId": "5b42a88d-296e-4ad9-9086-25fb6a8f892e"
   },
   "outputs": [
    {
     "name": "stdout",
     "output_type": "stream",
     "text": [
      "Currently on Epoch 1\n",
      "\t Currently in batch number 100 of 185\n",
      "Currently on Epoch 2\n",
      "\t Currently in batch number 100 of 185\n",
      "Currently on Epoch 3\n",
      "\t Currently in batch number 100 of 185\n",
      "Currently on Epoch 4\n",
      "\t Currently in batch number 100 of 185\n",
      "Currently on Epoch 5\n",
      "\t Currently in batch number 100 of 185\n",
      "Currently on Epoch 6\n",
      "\t Currently in batch number 100 of 185\n",
      "Currently on Epoch 7\n",
      "\t Currently in batch number 100 of 185\n",
      "Currently on Epoch 8\n",
      "\t Currently in batch number 100 of 185\n",
      "Currently on Epoch 9\n",
      "\t Currently in batch number 100 of 185\n",
      "Currently on Epoch 10\n",
      "\t Currently in batch number 100 of 185\n",
      "Currently on Epoch 11\n",
      "\t Currently in batch number 100 of 185\n",
      "Currently on Epoch 12\n",
      "\t Currently in batch number 100 of 185\n",
      "Currently on Epoch 13\n",
      "\t Currently in batch number 100 of 185\n",
      "Currently on Epoch 14\n",
      "\t Currently in batch number 100 of 185\n",
      "Currently on Epoch 15\n",
      "\t Currently in batch number 100 of 185\n",
      "Currently on Epoch 16\n",
      "\t Currently in batch number 100 of 185\n",
      "Currently on Epoch 17\n",
      "\t Currently in batch number 100 of 185\n",
      "Currently on Epoch 18\n",
      "\t Currently in batch number 100 of 185\n",
      "Currently on Epoch 19\n",
      "\t Currently in batch number 100 of 185\n",
      "Currently on Epoch 20\n",
      "\t Currently in batch number 100 of 185\n"
     ]
    }
   ],
   "source": [
    "generator , discriminator = GAN.layers\n",
    "with tf.device('/gpu:0'):\n",
    "    for epoch in range(epochs):\n",
    "        print(f'Currently on Epoch {epoch+1}')\n",
    "        i =  0\n",
    "      \n",
    "        for X_batch in dataset:\n",
    "            i = i + 1\n",
    "\n",
    "            if i%100 == 0:\n",
    "                print(f'\\t Currently in batch number {i} of {len(my_data)//batch_size}')\n",
    "          \n",
    "          \n",
    "            ##############################\n",
    "            # DISCRIMINATOR TRINING PHASE#\n",
    "            ##############################\n",
    "          \n",
    "            noise = tf.random.normal(shape=[batch_size,coding_size])\n",
    "            gen_images = generator(noise)\n",
    "            X_fake_vs_real = tf.concat([gen_images,tf.dtypes.cast(X_batch,tf.float32)],axis=0)\n",
    "            y1 = tf.constant([[0.0]]*batch_size  + [[1.0]]*batch_size)\n",
    "            discriminator.trainable = True\n",
    "            discriminator.train_on_batch(X_fake_vs_real,y1)\n",
    "          \n",
    "            ##############################\n",
    "            ##  GENERATOR TRINING PHASE ## \n",
    "            ##############################\n",
    "          \n",
    "            noise = tf.random.normal(shape=[batch_size,coding_size])\n",
    "            y2  = tf.constant([[1.0]]*batch_size)\n",
    "            discriminator.trainable = False\n",
    "            GAN.train_on_batch(noise,y2)"
   ]
  },
  {
   "cell_type": "code",
   "execution_count": 34,
   "metadata": {
    "colab": {
     "base_uri": "https://localhost:8080/",
     "height": 34
    },
    "colab_type": "code",
    "id": "bGNfGECMGfLZ",
    "outputId": "e8a684d8-e543-4321-f50c-dc3714fcf52f"
   },
   "outputs": [
    {
     "data": {
      "text/plain": [
       "TensorShape([10, 100])"
      ]
     },
     "execution_count": 34,
     "metadata": {
      "tags": []
     },
     "output_type": "execute_result"
    }
   ],
   "source": [
    "noise = tf.random.normal(shape=[10,coding_size])\n",
    "noise.shape"
   ]
  },
  {
   "cell_type": "code",
   "execution_count": 0,
   "metadata": {
    "colab": {},
    "colab_type": "code",
    "id": "sMO-9zq8GfLb"
   },
   "outputs": [],
   "source": [
    "images = generator(noise)"
   ]
  },
  {
   "cell_type": "code",
   "execution_count": 36,
   "metadata": {
    "colab": {
     "base_uri": "https://localhost:8080/",
     "height": 282
    },
    "colab_type": "code",
    "id": "SOcnpYgqGfLe",
    "outputId": "aafd6d1f-6e7d-40b2-a3f7-6d315f7e83a4"
   },
   "outputs": [
    {
     "data": {
      "text/plain": [
       "<matplotlib.image.AxesImage at 0x7faceed2cf98>"
      ]
     },
     "execution_count": 36,
     "metadata": {
      "tags": []
     },
     "output_type": "execute_result"
    },
    {
     "data": {
      "image/png": "[encoded data removed]",
      "text/plain": [
       "<Figure size 432x288 with 1 Axes>"
      ]
     },
     "metadata": {
      "needs_background": "light",
      "tags": []
     },
     "output_type": "display_data"
    }
   ],
   "source": [
    "plt.imshow(images[3].numpy().reshape(28,28))"
   ]
  },
  {
   "cell_type": "code",
   "execution_count": 38,
   "metadata": {
    "colab": {
     "base_uri": "https://localhost:8080/",
     "height": 282
    },
    "colab_type": "code",
    "id": "ZlZMBddwGfLh",
    "outputId": "b208d8a1-245f-4745-a2b6-ac8d81adc82e"
   },
   "outputs": [
    {
     "data": {
      "text/plain": [
       "<matplotlib.image.AxesImage at 0x7facee765828>"
      ]
     },
     "execution_count": 38,
     "metadata": {
      "tags": []
     },
     "output_type": "execute_result"
    },
    {
     "data": {
      "image/png": "[encoded data removed]",
      "text/plain": [
       "<Figure size 432x288 with 1 Axes>"
      ]
     },
     "metadata": {
      "needs_background": "light",
      "tags": []
     },
     "output_type": "display_data"
    }
   ],
   "source": [
    "plt.imshow(images[0].numpy().reshape(28,28))"
   ]
  },
  {
   "cell_type": "code",
   "execution_count": 39,
   "metadata": {
    "colab": {
     "base_uri": "https://localhost:8080/",
     "height": 282
    },
    "colab_type": "code",
    "id": "JS0DSQYkIY3U",
    "outputId": "36b0b8ad-cca9-414b-cae0-0b5fca183009"
   },
   "outputs": [
    {
     "data": {
      "text/plain": [
       "<matplotlib.image.AxesImage at 0x7facee740438>"
      ]
     },
     "execution_count": 39,
     "metadata": {
      "tags": []
     },
     "output_type": "execute_result"
    },
    {
     "data": {
      "image/png": "[encoded data removed]",
      "text/plain": [
       "<Figure size 432x288 with 1 Axes>"
      ]
     },
     "metadata": {
      "needs_background": "light",
      "tags": []
     },
     "output_type": "display_data"
    }
   ],
   "source": [
    "plt.imshow(images[9].numpy().reshape(28,28))"
   ]
  },
  {
   "cell_type": "code",
   "execution_count": 40,
   "metadata": {
    "colab": {
     "base_uri": "https://localhost:8080/",
     "height": 34
    },
    "colab_type": "code",
    "id": "iKwgnraCIepW",
    "outputId": "42fd067a-e399-47f2-91b9-1f5c72fdaa1f"
   },
   "outputs": [
    {
     "data": {
      "text/plain": [
       "(28, 28, 1)"
      ]
     },
     "execution_count": 40,
     "metadata": {
      "tags": []
     },
     "output_type": "execute_result"
    }
   ],
   "source": [
    "images[3].numpy().shape"
   ]
  },
  {
   "cell_type": "code",
   "execution_count": 0,
   "metadata": {
    "colab": {},
    "colab_type": "code",
    "id": "DXtYL-g7IqJj"
   },
   "outputs": [],
   "source": []
  }
 ],
 "metadata": {
  "accelerator": "GPU",
  "colab": {
   "collapsed_sections": [],
   "name": "DcGan-Mnist.ipynb",
   "provenance": []
  },
  "kernelspec": {
   "display_name": "Python 3",
   "language": "python",
   "name": "python3"
  },
  "language_info": {
   "codemirror_mode": {
    "name": "ipython",
    "version": 3
   },
   "file_extension": ".py",
   "mimetype": "text/x-python",
   "name": "python",
   "nbconvert_exporter": "python",
   "pygments_lexer": "ipython3",
   "version": "3.7.7"
  }
 },
 "nbformat": 4,
 "nbformat_minor": 1
}
